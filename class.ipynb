{
 "cells": [
  {
   "cell_type": "code",
   "execution_count": null,
   "id": "38d7cb13",
   "metadata": {},
   "outputs": [
    {
     "name": "stdout",
     "output_type": "stream",
     "text": [
      "Living Room 25 => Action: Turn On the AC\n",
      "Drawing Room 27 => Action: Turn On the AC\n",
      "Kitchen 30 => Action: Turn On the AC\n",
      "Bedroom 26 => Action: Turn On the AC\n"
     ]
    }
   ],
   "source": [
    "# requiremnt\n",
    "# input\n",
    "# Output\n",
    "class SimpleReflexAgent:\n",
    "    def __init__(self, temp):\n",
    "        self.fixed_temp = temp\n",
    "\n",
    "    def sensor(self, temp):\n",
    "        self.current_temp = temp\n",
    "\n",
    "    def performance(self):\n",
    "        action = None\n",
    "        if self.current_temp > self.fixed_temp:\n",
    "            action = \"Turn On the AC\"\n",
    "        else:\n",
    "            action = \"Turn Off the AC\"\n",
    "        return action\n",
    "\n",
    "    def actuator(self):\n",
    "        action = self.performance()\n",
    "        print(self.current_temp, \"=> Action:\", action)\n",
    "\n",
    "agent = SimpleReflexAgent(16)\n",
    "rooms = {\n",
    "    \"Living Room\": 25, \n",
    "    \"Drawing Room\": 27,\n",
    "    \"Kitchen\": 30,\n",
    "    \"Bedroom\": 26,\n",
    "}\n",
    "for room, temp in rooms.items():\n",
    "    print(room, end=\" \")\n",
    "    agent.sensor(temp)\n",
    "    agent.actuator()\n",
    "\n",
    "\n",
    "# agent.sensor(22)\n",
    "# agent.actuator()\n",
    "# print(agent.fixed_temp)\n",
    "# print(agent.current_temp)"
   ]
  }
 ],
 "metadata": {
  "kernelspec": {
   "display_name": "base",
   "language": "python",
   "name": "python3"
  },
  "language_info": {
   "codemirror_mode": {
    "name": "ipython",
    "version": 3
   },
   "file_extension": ".py",
   "mimetype": "text/x-python",
   "name": "python",
   "nbconvert_exporter": "python",
   "pygments_lexer": "ipython3",
   "version": "3.12.4"
  }
 },
 "nbformat": 4,
 "nbformat_minor": 5
}
