{
 "cells": [
  {
   "cell_type": "code",
   "execution_count": null,
   "id": "6308835e",
   "metadata": {},
   "outputs": [
    {
     "name": "stdout",
     "output_type": "stream",
     "text": [
      "\"If the number is divisible by 3, instead of saying the number, the player should say, \"Fizz\". \n",
      "If the number is divisible by 5, instead of saying the number, the player should say, \"Buzz\". \n",
      "If the number is divisible by 3and5, instead of saying the number, the player should say, \"Fizz Buzz\".\n",
      "If the number is not divisible by either 3 or 5, Just Press Enter\n",
      "The number is : 14\n",
      "Wrong Answer\n"
     ]
    }
   ],
   "source": [
    "import random\n",
    "\n",
    "n = 0\n",
    "\n",
    "while True:\n",
    "    no = random.randint(1, 15)\n",
    "    n1 = n + no\n",
    "    print(f\"The number is : {no}\")\n",
    "\n",
    "    if n1 % 3 == 0 and n1 % 5 == 0:\n",
    "        c = \"Fizz Buzz\"\n",
    "    elif n1 % 3 == 0:\n",
    "        c = \"Fizz\"\n",
    "    elif n1 % 5 == 0:\n",
    "        c = \"Buzz\"\n",
    "    else:\n",
    "        c = \"\"\n",
    "\n",
    "    guess = input(\"Your Guess: \")\n",
    "\n",
    "    if guess.lower() == c.lower():\n",
    "        print(\"Correct Answer\")\n",
    "    else:\n",
    "        print(\"Wrong Answer\")\n",
    "        break\n",
    "    \n",
    "    n = n1\n"
   ]
  },
  {
   "cell_type": "code",
   "execution_count": 4,
   "id": "bec76c91",
   "metadata": {},
   "outputs": [
    {
     "name": "stdout",
     "output_type": "stream",
     "text": [
      "If the number is divisible by 3, instead of saying the number, the player should say \"Fizz\". \n",
      "If the number is divisible by 5, instead of saying the number, the player should say \"Buzz\". \n",
      "If the number is divisible by 3 and 5, instead of saying the number, the player should say \"Fizz Buzz\".\n",
      "If the number is not divisible by either 3 or 5, just press Enter.\n",
      "The number is : 7\n",
      "Wrong Answer\n"
     ]
    }
   ],
   "source": [
    "import random\n",
    "\n",
    "n = 0\n",
    "print(\"\"\"If the number is divisible by 3, instead of saying the number, the player should say \"Fizz\". \n",
    "If the number is divisible by 5, instead of saying the number, the player should say \"Buzz\". \n",
    "If the number is divisible by 3 and 5, instead of saying the number, the player should say \"Fizz Buzz\".\n",
    "If the number is not divisible by either 3 or 5, just press Enter.\"\"\")\n",
    "\n",
    "while True:\n",
    "    no = random.randint(1, 15)\n",
    "    n1 = n + no   # cumulative, change to just \"no\" if you want normal fizzbuzz\n",
    "    print(f\"The number is : {no}\")\n",
    "\n",
    "    if n1 % 3 == 0 and n1 % 5 == 0:\n",
    "        c = \"Fizz Buzz\"\n",
    "    elif n1 % 3 == 0:\n",
    "        c = \"Fizz\"\n",
    "    elif n1 % 5 == 0:\n",
    "        c = \"Buzz\"\n",
    "    else:\n",
    "        c = \"\"\n",
    "\n",
    "    guess = input(\"Your Guess: \")\n",
    "\n",
    "    if guess.lower() == c.lower():\n",
    "        print(\"Correct Answer\")\n",
    "    else:\n",
    "        print(\"Wrong Answer\")\n",
    "        break\n",
    "\n",
    "    n = n1   # update the running total\n"
   ]
  }
 ],
 "metadata": {
  "kernelspec": {
   "display_name": "base",
   "language": "python",
   "name": "python3"
  },
  "language_info": {
   "codemirror_mode": {
    "name": "ipython",
    "version": 3
   },
   "file_extension": ".py",
   "mimetype": "text/x-python",
   "name": "python",
   "nbconvert_exporter": "python",
   "pygments_lexer": "ipython3",
   "version": "3.12.4"
  }
 },
 "nbformat": 4,
 "nbformat_minor": 5
}
