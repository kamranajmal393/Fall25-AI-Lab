{
 "cells": [
  {
   "cell_type": "code",
   "execution_count": 1,
   "id": "2b64a59e",
   "metadata": {},
   "outputs": [
    {
     "name": "stdout",
     "output_type": "stream",
     "text": [
      "BFS With Queue\n",
      "A B C D E F "
     ]
    }
   ],
   "source": [
    "graph = {\n",
    "    'A': ['B', 'C'],\n",
    "    'B': ['D', 'E'],\n",
    "    'C': ['F'],\n",
    "    'D': [],\n",
    "    'E': ['F'],\n",
    "    'F': []\n",
    "}\n",
    "\n",
    "def bfs_with_queue(graph, start):\n",
    "    visited = []          \n",
    "    queue = [start]       \n",
    "    \n",
    "    while queue:          \n",
    "        node = queue.pop(0) \n",
    "        \n",
    "        if node not in visited:\n",
    "            print(node, end=\" \")  \n",
    "            visited.append(node)  \n",
    "            \n",
    "            for i in graph[node]:\n",
    "                if i not in visited:\n",
    "                    queue.append(i)   \n",
    "\n",
    "print(\"BFS With Queue\")\n",
    "bfs_with_queue(graph, 'A')\n"
   ]
  },
  {
   "cell_type": "code",
   "execution_count": 1,
   "id": "24eae930",
   "metadata": {},
   "outputs": [
    {
     "name": "stdout",
     "output_type": "stream",
     "text": [
      "BFS Without Queue:\n",
      "A B C D E F "
     ]
    }
   ],
   "source": [
    "graph = {\n",
    "    'A': ['B', 'C'],\n",
    "    'B': ['D', 'E'],\n",
    "    'C': ['F'],\n",
    "    'D': [],\n",
    "    'E': ['F'],\n",
    "    'F': []\n",
    "}\n",
    "\n",
    "visited = []\n",
    "\n",
    "def bfs_without_queue(graph, frontier):\n",
    "    next = []\n",
    "    for node in frontier:\n",
    "        if node not in visited:\n",
    "            visited.append(node)\n",
    "            print(node, end=\" \")\n",
    "    \n",
    "            next.extend(graph[node])\n",
    "    if next: \n",
    "        bfs_without_queue(graph, next)\n",
    "\n",
    "print(\"BFS Without Queue:\")\n",
    "bfs_without_queue(graph, ['A'])\n"
   ]
  }
 ],
 "metadata": {
  "kernelspec": {
   "display_name": "base",
   "language": "python",
   "name": "python3"
  },
  "language_info": {
   "codemirror_mode": {
    "name": "ipython",
    "version": 3
   },
   "file_extension": ".py",
   "mimetype": "text/x-python",
   "name": "python",
   "nbconvert_exporter": "python",
   "pygments_lexer": "ipython3",
   "version": "3.12.4"
  }
 },
 "nbformat": 4,
 "nbformat_minor": 5
}
