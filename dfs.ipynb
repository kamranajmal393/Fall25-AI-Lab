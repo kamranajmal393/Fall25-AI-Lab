{
 "cells": [
  {
   "cell_type": "code",
   "execution_count": 7,
   "id": "c1325735",
   "metadata": {},
   "outputs": [
    {
     "name": "stdout",
     "output_type": "stream",
     "text": [
      "DFS using Stack:\n",
      "A B D E C F "
     ]
    }
   ],
   "source": [
    "def dfs(graph, start):\n",
    "    visited = set()             \n",
    "    stack = [start]             \n",
    "\n",
    "    while stack:                \n",
    "        current = stack.pop()   \n",
    "        if current not in visited:\n",
    "            print(current, end=\" \")   \n",
    "            visited.add(current)      \n",
    "            \n",
    "            for i in reversed(graph[current]):\n",
    "                if i not in visited:\n",
    "                    stack.append(i)\n",
    "graph = {\n",
    "    'A': ['B', 'C'],\n",
    "    'B': ['D', 'E'],\n",
    "    'C': ['F'],\n",
    "    'D': [],\n",
    "    'E': [],\n",
    "    'F': []\n",
    "}\n",
    "\n",
    "print(\"DFS using Stack:\")\n",
    "dfs(graph, 'A')\n"
   ]
  },
  {
   "cell_type": "code",
   "execution_count": 36,
   "id": "5a65f8cb",
   "metadata": {},
   "outputs": [
    {
     "name": "stdout",
     "output_type": "stream",
     "text": [
      "DLS:\n",
      "A B C \n",
      "Goal not found. 1\n"
     ]
    },
    {
     "data": {
      "text/plain": [
       "False"
      ]
     },
     "execution_count": 36,
     "metadata": {},
     "output_type": "execute_result"
    }
   ],
   "source": [
    "def dfs(graph, start, goal, limit):\n",
    "    visited = set()             \n",
    "    stack = [(start, 0)]           \n",
    "\n",
    "    while stack:                \n",
    "        current, depth = stack.pop()   \n",
    "        if current not in visited:\n",
    "            print(current, end=\" \")   \n",
    "            visited.add(current)      \n",
    "            if current == goal:\n",
    "                print(\"\\nGoal found:\", goal)\n",
    "                return True\n",
    "            if depth < limit:\n",
    "                for i in reversed(graph[current]):\n",
    "                    if i not in visited:\n",
    "                        stack.append((i, depth + 1))\n",
    "    print(\"\\nGoal not found.\", limit)  \n",
    "    return False  \n",
    "                \n",
    "graph = {\n",
    "    'A': ['B', 'C'],\n",
    "    'B': ['D', 'E'],\n",
    "    'C': ['F'],\n",
    "    'D': [],\n",
    "    'E': [],\n",
    "    'F': []\n",
    "}\n",
    "\n",
    "print(\"DLS:\")\n",
    "dfs(graph, 'A', 'F',1)\n"
   ]
  }
 ],
 "metadata": {
  "kernelspec": {
   "display_name": "base",
   "language": "python",
   "name": "python3"
  },
  "language_info": {
   "codemirror_mode": {
    "name": "ipython",
    "version": 3
   },
   "file_extension": ".py",
   "mimetype": "text/x-python",
   "name": "python",
   "nbconvert_exporter": "python",
   "pygments_lexer": "ipython3",
   "version": "3.12.4"
  }
 },
 "nbformat": 4,
 "nbformat_minor": 5
}
